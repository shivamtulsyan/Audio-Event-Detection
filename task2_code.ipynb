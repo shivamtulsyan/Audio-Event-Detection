{
  "nbformat": 4,
  "nbformat_minor": 0,
  "metadata": {
    "accelerator": "GPU",
    "colab": {
      "name": "task2_code.ipynb",
      "provenance": [],
      "collapsed_sections": []
    },
    "kernelspec": {
      "display_name": "Python 3",
      "language": "python",
      "name": "python3"
    },
    "language_info": {
      "codemirror_mode": {
        "name": "ipython",
        "version": 3
      },
      "file_extension": ".py",
      "mimetype": "text/x-python",
      "name": "python",
      "nbconvert_exporter": "python",
      "pygments_lexer": "ipython3",
      "version": "3.8.5"
    }
  },
  "cells": [
    {
      "cell_type": "code",
      "metadata": {
        "id": "kET7XusgRc7I"
      },
      "source": [
        "#----------------------------------------------------------------------\n",
        "# Importing all libraries needed\n",
        "#----------------------------------------------------------------------\n",
        "\n",
        "from numpy.random import seed\n",
        "seed(1)\n",
        "import tensorflow as tf\n",
        "tf.random.set_seed(2)\n",
        "\n",
        "import string\n",
        "import numpy as np\n",
        "import csv\n",
        "import pandas as pd\n",
        "import matplotlib.pyplot as plt\n",
        "\n",
        "from librosa.filters import mel\n",
        "from collections import Counter\n",
        "from tensorflow.keras import models\n",
        "from tensorflow.keras.models import Sequential\n",
        "from tensorflow.keras.layers import Dense, Conv2D, Flatten, MaxPool2D, Dropout, MaxPooling2D\n",
        "from tensorflow.keras.regularizers import l2\n",
        "from keras.utils import np_utils\n",
        "from sklearn.preprocessing import LabelEncoder\n",
        "from sklearn.metrics import confusion_matrix\n",
        "from sklearn.metrics import accuracy_score\n"
      ],
      "execution_count": 1,
      "outputs": []
    },
    {
      "cell_type": "code",
      "metadata": {
        "id": "JA5D9rJe_DAx",
        "colab": {
          "base_uri": "https://localhost:8080/"
        },
        "outputId": "50339888-8612-4d3c-96b8-23705ac17902"
      },
      "source": [
        "#----------------------------------------------------------------------\r\n",
        "# script to print execution time of each cell\r\n",
        "#----------------------------------------------------------------------\r\n",
        "%%capture\r\n",
        "\r\n",
        "!pip install ipython-autotime\r\n",
        "!pip install python-Levenshtein\r\n",
        "\r\n",
        "%load_ext autotime"
      ],
      "execution_count": 2,
      "outputs": [
        {
          "output_type": "stream",
          "text": [
            "time: 254 µs\n"
          ],
          "name": "stdout"
        }
      ]
    },
    {
      "cell_type": "code",
      "metadata": {
        "id": "eykP8ttORsPX",
        "colab": {
          "base_uri": "https://localhost:8080/"
        },
        "outputId": "5dfea1e3-303e-40df-b25a-df9a50957403"
      },
      "source": [
        "#----------------------------------------------------------------------\n",
        "# Script to mount Google Drive\n",
        "#----------------------------------------------------------------------\n",
        "from google.colab import drive\n",
        "drive.mount('/content/drive')"
      ],
      "execution_count": 3,
      "outputs": [
        {
          "output_type": "stream",
          "text": [
            "Mounted at /content/drive\n",
            "time: 18.6 s\n"
          ],
          "name": "stdout"
        }
      ]
    },
    {
      "cell_type": "code",
      "metadata": {
        "colab": {
          "base_uri": "https://localhost:8080/"
        },
        "id": "t6oR1R2xT4Pi",
        "outputId": "51bd4493-0879-4d32-af79-87d3bbd7b2ff"
      },
      "source": [
        "#----------------------------------------------------------------------\n",
        "# Setting default Location and no of frames\n",
        "#----------------------------------------------------------------------\n",
        "\n",
        "default = '/content/drive/MyDrive/All_Data/'\n",
        "\n",
        "folder = 'data_splits/Splitted_Data(5)/'\n",
        "test_folder = 'test_task2/'\n",
        "\n",
        "num_frames = 201"
      ],
      "execution_count": 9,
      "outputs": [
        {
          "output_type": "stream",
          "text": [
            "time: 1.95 ms\n"
          ],
          "name": "stdout"
        }
      ]
    },
    {
      "cell_type": "code",
      "metadata": {
        "colab": {
          "base_uri": "https://localhost:8080/"
        },
        "id": "KfzILDvSRc7K",
        "outputId": "e2da885d-d8fd-4e43-eb50-ebeb5b6387aa"
      },
      "source": [
        "#----------------------------------------------------------------------\n",
        "# Function to read Training files name and corresponding labels\n",
        "#----------------------------------------------------------------------\n",
        "def read_csv(filename):\n",
        "    id_label = {}\n",
        "    with open(filename,'r') as fid:\n",
        "        for line in fid:\n",
        "            tokens = line.strip().split(',')\n",
        "            id_label[tokens[0]] = tokens[1]\n",
        "    return id_label"
      ],
      "execution_count": 5,
      "outputs": [
        {
          "output_type": "stream",
          "text": [
            "time: 2.32 ms\n"
          ],
          "name": "stdout"
        }
      ]
    },
    {
      "cell_type": "code",
      "metadata": {
        "id": "eP4uO-7drFVA",
        "colab": {
          "base_uri": "https://localhost:8080/"
        },
        "outputId": "6ae061c1-5d38-4121-e532-94765922fd12"
      },
      "source": [
        "#----------------------------------------------------------------------\n",
        "# Making the mel transform matrix\n",
        "#----------------------------------------------------------------------\n",
        "n_mels = 513\n",
        "n_fft = 1024\n",
        "sr = 44100\n",
        "mel = mel(sr = sr, n_fft = n_fft, n_mels = n_mels)\n",
        "mel.shape"
      ],
      "execution_count": 6,
      "outputs": [
        {
          "output_type": "stream",
          "text": [
            "/usr/local/lib/python3.6/dist-packages/librosa/filters.py:284: UserWarning: Empty filters detected in mel frequency basis. Some channels will produce empty responses. Try increasing your sampling rate (and fmax) or reducing n_mels.\n",
            "  warnings.warn('Empty filters detected in mel frequency basis. '\n"
          ],
          "name": "stderr"
        },
        {
          "output_type": "execute_result",
          "data": {
            "text/plain": [
              "(513, 513)"
            ]
          },
          "metadata": {
            "tags": []
          },
          "execution_count": 6
        },
        {
          "output_type": "stream",
          "text": [
            "time: 19.5 ms\n"
          ],
          "name": "stdout"
        }
      ]
    },
    {
      "cell_type": "markdown",
      "metadata": {
        "id": "vZ2c-aGnyf8L"
      },
      "source": [
        "**Training Section**"
      ]
    },
    {
      "cell_type": "code",
      "metadata": {
        "id": "lFtc-DC9A6rG"
      },
      "source": [
        "#----------------------------------------------------------------------\r\n",
        "# Splitting the training data keeping the souces separated\r\n",
        "#----------------------------------------------------------------------\r\n",
        "data = read_csv(default + 'labels_train.csv')\r\n",
        "data_set = pd.read_csv(default + 'labels_train.csv')\r\n",
        "data_set = data_set.sample(frac=1).reset_index(drop=True)\r\n",
        "X = data_set['slice_file_name']\r\n",
        "Y = data_set['class']\r\n",
        "Train={}\r\n",
        "Val={}\r\n",
        "is_Train= {}\r\n",
        "X_Train = []\r\n",
        "Y_Train = []\r\n",
        "X_Val = []\r\n",
        "Y_Val = []\r\n",
        "for i in range(len(X)):\r\n",
        "    temp_X = X[i]\r\n",
        "    j = 0\r\n",
        "\r\n",
        "    while (j<len(temp_X) and temp_X[j]!='-'):\r\n",
        "        j+=1\r\n",
        "    fs_id = temp_X[0:j]\r\n",
        "    temp_label = data[temp_X]\r\n",
        "    if (fs_id in Train):\r\n",
        "        X_Train.append(temp_X)\r\n",
        "        Y_Train.append(temp_label)\r\n",
        "    elif (fs_id in Val):\r\n",
        "        X_Val.append(temp_X)\r\n",
        "        Y_Val.append(temp_label)\r\n",
        "    elif (temp_label in is_Train):\r\n",
        "        if (is_Train[temp_label]<2):\r\n",
        "            X_Train.append(temp_X)\r\n",
        "            Y_Train.append(temp_label)\r\n",
        "            Train[fs_id] = 1\r\n",
        "            is_Train[temp_label]+=1\r\n",
        "\r\n",
        "        elif (len(X_Train)<(4.5)*len(X_Val)):\r\n",
        "            X_Train.append(temp_X)\r\n",
        "            Y_Train.append(temp_label)\r\n",
        "            Train[fs_id] = 1\r\n",
        "        else:\r\n",
        "            X_Val.append(temp_X)\r\n",
        "            Val[fs_id] = 1\r\n",
        "            Y_Val.append(temp_label)\r\n",
        "    else:\r\n",
        "        X_Train.append(temp_X)\r\n",
        "        Y_Train.append(temp_label)\r\n",
        "        Train[fs_id] = 1\r\n",
        "        is_Train[temp_label]=1\r\n",
        "# print(len(X_Train))\r\n",
        "# print(len(X_Val))\r\n",
        "# print(len(Y_Train))\r\n",
        "# print(len(Y_Val))"
      ],
      "execution_count": null,
      "outputs": []
    },
    {
      "cell_type": "code",
      "metadata": {
        "id": "3Vo_vrz1EhDZ",
        "colab": {
          "base_uri": "https://localhost:8080/",
          "height": 691
        },
        "outputId": "f8e05462-2966-4241-888e-fc757bf341f4"
      },
      "source": [
        "#----------------------------------------------------------------------\r\n",
        "# Plotting the Bar plots to see if the split is good enough\r\n",
        "#----------------------------------------------------------------------\r\n",
        "\r\n",
        "count1 = Counter(Ytrain)\r\n",
        "df1 = pd.DataFrame.from_dict(count1, orient ='index')\r\n",
        "df1.plot(kind='bar')\r\n",
        "\r\n",
        "count2 = Counter(Yval)\r\n",
        "df2 = pd.DataFrame.from_dict(count2, orient ='index')\r\n",
        "df2.plot(kind='bar')"
      ],
      "execution_count": null,
      "outputs": [
        {
          "output_type": "execute_result",
          "data": {
            "text/plain": [
              "<matplotlib.axes._subplots.AxesSubplot at 0x7f860fd0bcf8>"
            ]
          },
          "metadata": {
            "tags": []
          },
          "execution_count": 11
        },
        {
          "output_type": "display_data",
          "data": {
            "image/png": "[encoded data removed]",
            "text/plain": [
              "<Figure size 432x288 with 1 Axes>"
            ]
          },
          "metadata": {
            "tags": [],
            "needs_background": "light"
          }
        },
        {
          "output_type": "display_data",
          "data": {
            "image/png": "[encoded data removed]",
            "text/plain": [
              "<Figure size 432x288 with 1 Axes>"
            ]
          },
          "metadata": {
            "tags": [],
            "needs_background": "light"
          }
        },
        {
          "output_type": "stream",
          "text": [
            "time: 398 ms\n"
          ],
          "name": "stdout"
        }
      ]
    },
    {
      "cell_type": "code",
      "metadata": {
        "id": "X3lZszIFGg65",
        "colab": {
          "base_uri": "https://localhost:8080/"
        },
        "outputId": "6e5ebbcf-c690-4d55-fb66-724b63358d9c"
      },
      "source": [
        "#----------------------------------------------------------------------\r\n",
        "# Converting the splitted data to dictionary format\r\n",
        "#----------------------------------------------------------------------\r\n",
        "data_train={}\r\n",
        "data_val={}\r\n",
        "for i in range(len(Xtrain)):\r\n",
        "  data_train[Xtrain[i]]=Ytrain[i]\r\n",
        "for i in range(len(Xval)):\r\n",
        "  data_val[Xval[i]]=Yval[i]"
      ],
      "execution_count": null,
      "outputs": [
        {
          "output_type": "stream",
          "text": [
            "time: 3.33 ms\n"
          ],
          "name": "stdout"
        }
      ]
    },
    {
      "cell_type": "code",
      "metadata": {
        "id": "7MiDduK58k09",
        "colab": {
          "base_uri": "https://localhost:8080/"
        },
        "outputId": "5202933e-0fe8-493c-96c1-fdef1851955f"
      },
      "source": [
        "#----------------------------------------------------------------------\n",
        "# Saving the Spliited Data in Dictionary Format\n",
        "#----------------------------------------------------------------------\n",
        "field_names= ['slice_file_name', 'label']\n",
        "\n",
        "with open(default + folder + 'data_train.csv', 'w') as csvfile:\n",
        "    writer = csv.writer(csvfile)\n",
        "    for key, value in data_train.items():\n",
        "       writer.writerow([key, value])\n",
        "\n",
        "with open(default + folder + 'data_val.csv', 'w') as csvfile:\n",
        "    writer = csv.writer(csvfile)\n",
        "    for key, value in data_val.items():\n",
        "       writer.writerow([key, value])"
      ],
      "execution_count": null,
      "outputs": [
        {
          "output_type": "stream",
          "text": [
            "time: 18.6 ms\n"
          ],
          "name": "stdout"
        }
      ]
    },
    {
      "cell_type": "code",
      "metadata": {
        "id": "6rMihn2s8rtl",
        "colab": {
          "base_uri": "https://localhost:8080/"
        },
        "outputId": "212c9557-cad5-4c03-9cc4-422c33a49f89"
      },
      "source": [
        "#----------------------------------------------------------------------\n",
        "# Loading the saved splitted data in dictinoary format\n",
        "#----------------------------------------------------------------------\n",
        "\n",
        "with open(default + folder + 'data_train.csv') as csv_file:\n",
        "    reader = csv.reader(csv_file)\n",
        "    data_train = dict(reader)\n",
        "\n",
        "with open(default + folder + 'data_val.csv') as csv_file:\n",
        "    reader = csv.reader(csv_file)\n",
        "    data_val = dict(reader)"
      ],
      "execution_count": null,
      "outputs": [
        {
          "output_type": "stream",
          "text": [
            "time: 15 ms\n"
          ],
          "name": "stdout"
        }
      ]
    },
    {
      "cell_type": "code",
      "metadata": {
        "id": "na5gMzu2EUhH",
        "colab": {
          "base_uri": "https://localhost:8080/"
        },
        "outputId": "397b1c7a-c0e1-49f9-ad1d-495f4a327f48"
      },
      "source": [
        "#----------------------------------------------------------------------\r\n",
        "# Organizing the training data and reshaping for further use\r\n",
        "#----------------------------------------------------------------------\r\n",
        "\r\n",
        "flag=1\r\n",
        "\r\n",
        "for _ in data_train:\r\n",
        "        \r\n",
        "    if(_ == 'slice_file_name'):\r\n",
        "        continue\r\n",
        "    if (_[-3:]=='wav'):\r\n",
        "        a = _[0:-4] + '.npy'\r\n",
        "    else:\r\n",
        "        a = _ + '.npy'\r\n",
        "    \r\n",
        "    temp_data_train = np.transpose(mel.dot(np.load(default + 'Training_data_1ch/' + a)))\r\n",
        "    \r\n",
        "    length = len(temp_data_train)\r\n",
        "    num_pad = (num_frames - (length)%num_frames)%num_frames\r\n",
        "    temp_data_train = np.pad(temp_data_train, [(0,num_pad),(0,0)])\r\n",
        "    length = len(temp_data_train)\r\n",
        "    \r\n",
        "    if (flag):\r\n",
        "        X_train = np.reshape(temp_data_train, [length//num_frames, num_frames, temp_data_train.shape[1]])\r\n",
        "        Y_train = np.vstack([data_train[_]]*(length//num_frames))\r\n",
        "        train_labels = np.array([[length//num_frames, data_train[_]]])\r\n",
        "    else:\r\n",
        "        X_train = np.append(X_train, np.reshape(temp_data_train, [length//num_frames, num_frames, temp_data_train.shape[1]]), axis=0)\r\n",
        "        Y_train = np.append(Y_train, np.vstack([data_train[_]]*(length//num_frames)), axis=0)\r\n",
        "        train_labels = np.append(train_labels, np.array([[length//num_frames, data_train[_]]]), axis=0)\r\n",
        "    flag=0"
      ],
      "execution_count": null,
      "outputs": [
        {
          "output_type": "stream",
          "text": [
            "time: 8min 5s\n"
          ],
          "name": "stdout"
        }
      ]
    },
    {
      "cell_type": "code",
      "metadata": {
        "id": "EWN1AQ7O81iK",
        "colab": {
          "base_uri": "https://localhost:8080/"
        },
        "outputId": "b590d15c-79f8-4e29-e6d2-4749c0cf99db"
      },
      "source": [
        "#----------------------------------------------------------------------\n",
        "# Saving the Training Data\n",
        "#----------------------------------------------------------------------\n",
        "\n",
        "print(X_train.shape)\n",
        "print(Y_train.shape)\n",
        "print(train_labels)\n",
        "\n",
        "np.save(default + folder + 'melTrain(' + str(num_frames) +')/X_train', X_train)\n",
        "np.save(default + folder + 'melTrain(' + str(num_frames) +')/Y_train', Y_train)\n",
        "np.save(default + folder + 'melTrain(' + str(num_frames) +')/train_labels', train_labels)"
      ],
      "execution_count": null,
      "outputs": [
        {
          "output_type": "stream",
          "text": [
            "(2716, 201, 513)\n",
            "(2716, 1)\n",
            "[['2' 'siren']\n",
            " ['2' 'siren']\n",
            " ['2' 'engine_idling']\n",
            " ...\n",
            " ['2' 'siren']\n",
            " ['2' 'children_playing']\n",
            " ['2' 'children_playing']]\n",
            "time: 41.4 s\n"
          ],
          "name": "stdout"
        }
      ]
    },
    {
      "cell_type": "code",
      "metadata": {
        "id": "w46pDwOqVkIy",
        "colab": {
          "base_uri": "https://localhost:8080/"
        },
        "outputId": "c1ec1016-268b-4af7-bd7a-bca22272c0aa"
      },
      "source": [
        "#----------------------------------------------------------------------\n",
        "# Loading the Training Data\n",
        "#----------------------------------------------------------------------\n",
        "X_train = np.load(default + folder + 'melTrain(' + str(num_frames) +')/'+'X_train.npy')\n",
        "Y_train = np.load(default + folder + 'melTrain(' + str(num_frames) +')/'+'Y_train.npy')\n",
        "train_labels = np.load(default + folder + 'melTrain(' + str(num_frames) +')/'+'train_labels.npy')"
      ],
      "execution_count": null,
      "outputs": [
        {
          "output_type": "stream",
          "text": [
            "time: 1min 4s\n"
          ],
          "name": "stdout"
        }
      ]
    },
    {
      "cell_type": "code",
      "metadata": {
        "id": "3dmHGlZRRc7M",
        "colab": {
          "base_uri": "https://localhost:8080/"
        },
        "outputId": "b5878ca2-68c1-4476-cf5d-af488c47dc2c"
      },
      "source": [
        "#----------------------------------------------------------------------\n",
        "# Organizing true labels to one hot vectors\n",
        "#----------------------------------------------------------------------\n",
        "encoder = LabelEncoder()\n",
        "encoder.fit(Y_train.ravel())\n",
        "np.save(default + 'classes.npy', encoder.classes_)\n",
        "\n",
        "encoded_Y_train = encoder.transform(Y_train.ravel())\n",
        "one_hot_Y_train = np_utils.to_categorical(encoded_Y_train)\n",
        "\n",
        "labels = np.unique(encoded_Y_train)\n",
        "n_feat = X_train.shape[2]\n",
        "\n",
        "train_labels[:,1] = encoder.transform(train_labels[:,1])\n",
        "train_labels = train_labels.astype('int')"
      ],
      "execution_count": null,
      "outputs": [
        {
          "output_type": "stream",
          "text": [
            "time: 198 ms\n"
          ],
          "name": "stdout"
        }
      ]
    },
    {
      "cell_type": "code",
      "metadata": {
        "id": "V_5abhLaRc7O",
        "colab": {
          "base_uri": "https://localhost:8080/"
        },
        "outputId": "112c1dd3-4064-4c27-faa2-cb0d6adc8c02"
      },
      "source": [
        "#----------------------------------------------------------------------\n",
        "# Organizing the validation data and reshaping for further use\n",
        "#----------------------------------------------------------------------\n",
        "\n",
        "flag=1\n",
        "\n",
        "for _ in data_val:\n",
        "        \n",
        "    if(_ == 'slice_file_name'):\n",
        "        continue\n",
        "    if (_[-3:]=='wav'):\n",
        "        a = _[0:-4] + '.npy'\n",
        "    else:\n",
        "        a = _ + '.npy'\n",
        "    \n",
        "    temp_data_val = np.transpose(mel.dot(np.load(default + 'Training_data_1ch/' + a)))\n",
        "    \n",
        "    length = len(temp_data_val)\n",
        "    num_pad = (num_frames - (length)%num_frames)%num_frames\n",
        "    temp_data_val = np.pad(temp_data_val, [(0,num_pad),(0,0)])\n",
        "    length = len(temp_data_val)\n",
        "    \n",
        "    if (flag):\n",
        "        X_val = np.reshape(temp_data_val, [length//num_frames, num_frames, temp_data_val.shape[1]])\n",
        "        Y_val = np.vstack([data_val[_]]*(length//num_frames))\n",
        "        val_labels = np.array([[length//num_frames, data_val[_]]])\n",
        "    else:\n",
        "        X_val = np.append(X_val, np.reshape(temp_data_val, [length//num_frames, num_frames, temp_data_val.shape[1]]), axis=0)\n",
        "        Y_val = np.append(Y_val, np.vstack([data_val[_]]*(length//num_frames)), axis=0)\n",
        "        val_labels = np.append(val_labels, np.array([[length//num_frames, data_val[_]]]), axis=0)\n",
        "    flag=0"
      ],
      "execution_count": null,
      "outputs": [
        {
          "output_type": "stream",
          "text": [
            "time: 40.1 s\n"
          ],
          "name": "stdout"
        }
      ]
    },
    {
      "cell_type": "code",
      "metadata": {
        "id": "ZJGlym_-9Txl",
        "colab": {
          "base_uri": "https://localhost:8080/"
        },
        "outputId": "5ce672e0-f3a4-4c75-c36d-418a5ff01453"
      },
      "source": [
        "#----------------------------------------------------------------------\n",
        "# Saving the Validation data\n",
        "#----------------------------------------------------------------------\n",
        "print(X_val.shape)\n",
        "print(Y_val.shape)\n",
        "print(val_labels.shape)\n",
        "\n",
        "np.save(default + folder + 'melValidate(' + str(num_frames) +')/X_val', X_val)\n",
        "np.save(default + folder + 'melValidate(' + str(num_frames) +')/Y_val', Y_val)\n",
        "np.save(default + folder + 'melValidate(' + str(num_frames) +')/val_labels', val_labels)"
      ],
      "execution_count": null,
      "outputs": [
        {
          "output_type": "stream",
          "text": [
            "(600, 201, 513)\n",
            "(600, 1)\n",
            "(326, 2)\n",
            "time: 8.96 s\n"
          ],
          "name": "stdout"
        }
      ]
    },
    {
      "cell_type": "code",
      "metadata": {
        "id": "Mr0UhFZoV2wb",
        "colab": {
          "base_uri": "https://localhost:8080/"
        },
        "outputId": "6782f533-d7b6-4532-a4ad-83fb626ad55f"
      },
      "source": [
        "#----------------------------------------------------------------------\n",
        "# Loading the Validation data\n",
        "#----------------------------------------------------------------------\n",
        "\n",
        "X_val = np.load(default + folder + 'melValidate(' + str(num_frames) +')/'+'X_val.npy')\n",
        "Y_val = np.load(default + folder + 'melValidate(' + str(num_frames) +')/'+'Y_val.npy')\n",
        "val_labels = np.load(default + folder + 'melValidate(' + str(num_frames) +')/'+'val_labels.npy')"
      ],
      "execution_count": null,
      "outputs": [
        {
          "output_type": "stream",
          "text": [
            "time: 460 ms\n"
          ],
          "name": "stdout"
        }
      ]
    },
    {
      "cell_type": "code",
      "metadata": {
        "id": "14bTZ4p_WscY",
        "colab": {
          "base_uri": "https://localhost:8080/"
        },
        "outputId": "a08818a8-2ab2-4122-a9a6-958ee2810ee4"
      },
      "source": [
        "#----------------------------------------------------------------------\n",
        "# Organizing true labels to one hot vectors of validation data\n",
        "#----------------------------------------------------------------------\n",
        "encoded_Y_val = encoder.transform(Y_val.ravel())\n",
        "one_hot_Y_val = np_utils.to_categorical(encoded_Y_val)\n",
        "\n",
        "val_labels[:,1] = encoder.transform(val_labels[:,1])\n",
        "val_labels = val_labels.astype('int')"
      ],
      "execution_count": null,
      "outputs": [
        {
          "output_type": "stream",
          "text": [
            "time: 3.79 ms\n"
          ],
          "name": "stdout"
        }
      ]
    },
    {
      "cell_type": "markdown",
      "metadata": {
        "id": "dmI-3IRugN4s"
      },
      "source": [
        "**CNN**"
      ]
    },
    {
      "cell_type": "code",
      "metadata": {
        "id": "gWQ_7r_ZdMP9",
        "colab": {
          "base_uri": "https://localhost:8080/"
        },
        "outputId": "7b890097-06fd-4ba3-b1dd-2a66daf8211d"
      },
      "source": [
        "#----------------------------------------------------------------------\r\n",
        "# Reshaping the Data for cnn model\r\n",
        "#----------------------------------------------------------------------\r\n",
        "X_train = np.reshape(X_train, (X_train.shape[0], X_train.shape[1], X_train.shape[2], 1))\r\n",
        "X_val = np.reshape(X_val, (X_val.shape[0], X_val.shape[1], X_val.shape[2], 1))\r\n",
        "input_dim = (num_frames, n_feat, 1)\r\n",
        "output_dim = one_hot_Y_train.shape[1]\r\n",
        "\r\n",
        "\r\n",
        "#----------------------------------------------------------------------\r\n",
        "# Defining the cnn model\r\n",
        "#----------------------------------------------------------------------\r\n",
        "def cnn_model():\r\n",
        "\r\n",
        "    model = Sequential()\r\n",
        "\r\n",
        "    model.add(Conv2D(32,kernel_size=(3,8),strides=(1,1),padding=\"Same\",input_shape=input_dim, activation = 'relu',kernel_regularizer = l2(0.001)))\r\n",
        "    model.add(Conv2D(32,kernel_size=(3,5),strides=(1,1),padding=\"same\", kernel_regularizer = l2(0.001)))\r\n",
        "    model.add(MaxPooling2D(pool_size = (4,3), strides = (4,3)))\r\n",
        "    \r\n",
        "\r\n",
        "    model.add(Conv2D(64,kernel_size=(3,1),strides=(1,1),padding=\"Same\",kernel_regularizer = l2(0.001)))\r\n",
        "    model.add(Conv2D(64,kernel_size=(3,1),strides=(1,1),padding=\"same\",kernel_regularizer = l2(0.001)))\r\n",
        "    model.add(MaxPooling2D(pool_size = (4,1), strides = (4,1)))\r\n",
        "\r\n",
        "    model.add(Conv2D(128,kernel_size=(1,5),strides=(1,1),padding=\"Same\",kernel_regularizer = l2(0.001)))\r\n",
        "    model.add(Conv2D(128,kernel_size=(1,5),strides=(1,1),padding=\"same\",kernel_regularizer = l2(0.001)))\r\n",
        "    model.add(MaxPooling2D(pool_size = (1,3), strides = (1,3)))\r\n",
        "\r\n",
        "    model.add(Flatten())\r\n",
        "    model.add(Dense(256,activation=\"relu\"))\r\n",
        "    model.add(Dropout(0.7))\r\n",
        "\r\n",
        "    model.add(Dense(64,activation=\"relu\"))\r\n",
        "    model.add(Dropout(0.3))\r\n",
        "\r\n",
        "    model.add(Dense(output_dim,activation=\"softmax\"))\r\n",
        "    model.compile(loss='categorical_crossentropy', optimizer='rmsprop', metrics=['accuracy'])\r\n",
        "\r\n",
        "    return model\r\n",
        "\r\n",
        "\r\n",
        "#----------------------------------------------------------------------\r\n",
        "# Calculating the model\r\n",
        "#----------------------------------------------------------------------\r\n",
        "estimator = cnn_model()\r\n",
        "history = estimator.fit(X_train, one_hot_Y_train, validation_data = (X_val, one_hot_Y_val), epochs = 10, batch_size = 64)"
      ],
      "execution_count": null,
      "outputs": [
        {
          "output_type": "stream",
          "text": [
            "Epoch 1/10\n",
            " 2/43 [>.............................] - ETA: 12s - loss: 3.4860 - accuracy: 0.1016WARNING:tensorflow:Callbacks method `on_train_batch_end` is slow compared to the batch time (batch time: 0.1327s vs `on_train_batch_end` time: 0.2372s). Check your callbacks.\n",
            "43/43 [==============================] - 17s 385ms/step - loss: 3.6646 - accuracy: 0.1550 - val_loss: 2.5230 - val_accuracy: 0.2367\n",
            "Epoch 2/10\n",
            "43/43 [==============================] - 16s 382ms/step - loss: 2.4438 - accuracy: 0.2493 - val_loss: 2.5559 - val_accuracy: 0.2800\n",
            "Epoch 3/10\n",
            "43/43 [==============================] - 17s 385ms/step - loss: 2.2686 - accuracy: 0.3303 - val_loss: 2.3361 - val_accuracy: 0.2867\n",
            "Epoch 4/10\n",
            "43/43 [==============================] - 17s 388ms/step - loss: 2.0163 - accuracy: 0.4227 - val_loss: 2.1392 - val_accuracy: 0.2883\n",
            "Epoch 5/10\n",
            "43/43 [==============================] - 17s 391ms/step - loss: 1.8051 - accuracy: 0.4768 - val_loss: 2.2243 - val_accuracy: 0.4033\n",
            "Epoch 6/10\n",
            "43/43 [==============================] - 17s 395ms/step - loss: 1.6356 - accuracy: 0.5449 - val_loss: 2.0668 - val_accuracy: 0.4767\n",
            "Epoch 7/10\n",
            "43/43 [==============================] - 17s 395ms/step - loss: 1.4433 - accuracy: 0.6270 - val_loss: 2.3339 - val_accuracy: 0.4533\n",
            "Epoch 8/10\n",
            "43/43 [==============================] - 17s 397ms/step - loss: 1.2619 - accuracy: 0.6749 - val_loss: 1.8803 - val_accuracy: 0.5350\n",
            "Epoch 9/10\n",
            "43/43 [==============================] - 17s 397ms/step - loss: 1.1564 - accuracy: 0.7191 - val_loss: 1.9076 - val_accuracy: 0.5350\n",
            "Epoch 10/10\n",
            "43/43 [==============================] - 17s 399ms/step - loss: 1.0341 - accuracy: 0.7658 - val_loss: 1.9510 - val_accuracy: 0.5233\n",
            "time: 2min 51s\n"
          ],
          "name": "stdout"
        }
      ]
    },
    {
      "cell_type": "markdown",
      "metadata": {
        "id": "zEE7jb6rs2ui"
      },
      "source": [
        "**Check How Model Worked**"
      ]
    },
    {
      "cell_type": "code",
      "metadata": {
        "id": "LlU_BZ9RexMq",
        "colab": {
          "base_uri": "https://localhost:8080/",
          "height": 1000
        },
        "outputId": "92676cfd-42de-454b-f5c5-288855c11409"
      },
      "source": [
        "#----------------------------------------------------------------------\r\n",
        "# Plotting the history of the model and printing the model summary\r\n",
        "#----------------------------------------------------------------------\r\n",
        "\r\n",
        "# summarize history for accuracy\r\n",
        "plt.plot(history.history['accuracy'])\r\n",
        "plt.plot(history.history['val_accuracy'])\r\n",
        "plt.title('model accuracy')\r\n",
        "plt.ylabel('accuracy')\r\n",
        "plt.xlabel('epoch')\r\n",
        "plt.legend(['train', 'test'], loc='upper left')\r\n",
        "plt.savefig(default + folder + '2Plots2/Accuracy.png', dpi=800)\r\n",
        "plt.show()\r\n",
        "\r\n",
        "# summarize history for loss\r\n",
        "plt.plot(history.history['loss'])\r\n",
        "plt.plot(history.history['val_loss'])\r\n",
        "plt.title('model loss')\r\n",
        "plt.ylabel('loss')\r\n",
        "plt.xlabel('epoch')\r\n",
        "plt.legend(['train', 'test'], loc='upper left')\r\n",
        "plt.savefig(default + folder + '2Plots2/Loss.png', dpi=800)\r\n",
        "plt.show()\r\n",
        "\r\n",
        "estimator.summary()"
      ],
      "execution_count": null,
      "outputs": [
        {
          "output_type": "display_data",
          "data": {
            "image/png": "[encoded data removed]",
            "text/plain": [
              "<Figure size 432x288 with 1 Axes>"
            ]
          },
          "metadata": {
            "tags": [],
            "needs_background": "light"
          }
        },
        {
          "output_type": "display_data",
          "data": {
            "image/png": "[encoded data removed]",
            "text/plain": [
              "<Figure size 432x288 with 1 Axes>"
            ]
          },
          "metadata": {
            "tags": [],
            "needs_background": "light"
          }
        },
        {
          "output_type": "stream",
          "text": [
            "Model: \"sequential_6\"\n",
            "_________________________________________________________________\n",
            "Layer (type)                 Output Shape              Param #   \n",
            "=================================================================\n",
            "conv2d_34 (Conv2D)           (None, 201, 513, 32)      800       \n",
            "_________________________________________________________________\n",
            "conv2d_35 (Conv2D)           (None, 201, 513, 32)      15392     \n",
            "_________________________________________________________________\n",
            "max_pooling2d_17 (MaxPooling (None, 50, 171, 32)       0         \n",
            "_________________________________________________________________\n",
            "conv2d_36 (Conv2D)           (None, 50, 171, 64)       6208      \n",
            "_________________________________________________________________\n",
            "conv2d_37 (Conv2D)           (None, 50, 171, 64)       12352     \n",
            "_________________________________________________________________\n",
            "max_pooling2d_18 (MaxPooling (None, 12, 171, 64)       0         \n",
            "_________________________________________________________________\n",
            "conv2d_38 (Conv2D)           (None, 12, 171, 128)      41088     \n",
            "_________________________________________________________________\n",
            "conv2d_39 (Conv2D)           (None, 12, 171, 128)      82048     \n",
            "_________________________________________________________________\n",
            "max_pooling2d_19 (MaxPooling (None, 12, 57, 128)       0         \n",
            "_________________________________________________________________\n",
            "flatten_5 (Flatten)          (None, 87552)             0         \n",
            "_________________________________________________________________\n",
            "dense_15 (Dense)             (None, 256)               22413568  \n",
            "_________________________________________________________________\n",
            "dropout_10 (Dropout)         (None, 256)               0         \n",
            "_________________________________________________________________\n",
            "dense_16 (Dense)             (None, 64)                16448     \n",
            "_________________________________________________________________\n",
            "dropout_11 (Dropout)         (None, 64)                0         \n",
            "_________________________________________________________________\n",
            "dense_17 (Dense)             (None, 10)                650       \n",
            "=================================================================\n",
            "Total params: 22,588,554\n",
            "Trainable params: 22,588,554\n",
            "Non-trainable params: 0\n",
            "_________________________________________________________________\n",
            "time: 3.76 s\n"
          ],
          "name": "stdout"
        }
      ]
    },
    {
      "cell_type": "code",
      "metadata": {
        "id": "emEpHcLlRc7P",
        "colab": {
          "base_uri": "https://localhost:8080/"
        },
        "outputId": "16757375-d351-4183-c9c8-2d24e535de3e"
      },
      "source": [
        "#----------------------------------------------------------------------\n",
        "# Predicting labels of Validation Set\n",
        "#----------------------------------------------------------------------\n",
        "\n",
        "predictions = estimator.predict_proba(X_val)\n",
        "\n",
        "i=0\n",
        "Y_true = val_labels[:,1]\n",
        "Y_pred = np.zeros(val_labels[:,0].shape)\n",
        "for j in range(len(val_labels)):\n",
        "    index = val_labels[j][0]+i\n",
        "    A = predictions[i:index, :]\n",
        "    Y_pred[j]=(np.argmax(np.sum(A, axis=0)))\n",
        "    i=index"
      ],
      "execution_count": null,
      "outputs": [
        {
          "output_type": "stream",
          "text": [
            "time: 1.25 s\n"
          ],
          "name": "stdout"
        }
      ]
    },
    {
      "cell_type": "code",
      "metadata": {
        "id": "EBTff1vPRc7P",
        "colab": {
          "base_uri": "https://localhost:8080/"
        },
        "outputId": "78a5d00f-7675-4db0-bbc6-6e74d6f15dc5"
      },
      "source": [
        "#----------------------------------------------------------------------\n",
        "# Outputting quantitaive metrics\n",
        "#----------------------------------------------------------------------\n",
        "\n",
        "CM = np.zeros((output_dim,output_dim))\n",
        "for i in range(len(Y_pred)):\n",
        "    CM[Y_true[i]][np.int(Y_pred[i])] += 1\n",
        "print('Audio labels Result -> ')\n",
        "print('Confusion Matrix ->')\n",
        "print(CM)\n",
        "print('Accuracy Score ->', accuracy_score(Y_true, Y_pred))\n",
        "print('\\n')"
      ],
      "execution_count": null,
      "outputs": [
        {
          "output_type": "stream",
          "text": [
            "Audio labels Result -> \n",
            "Confusion Matrix ->\n",
            "[[ 7.  0.  5.  0.  1.  3.  0. 11.  0.  0.]\n",
            " [ 0.  6.  0.  1.  0.  0.  0.  0.  0.  1.]\n",
            " [ 4.  0. 18.  4.  0.  0.  0.  0.  0.  7.]\n",
            " [ 2.  0.  6. 38.  0.  3.  2.  1.  2.  1.]\n",
            " [ 0.  0.  0.  1. 30.  1.  0.  3.  2.  1.]\n",
            " [19.  0.  0.  0.  0.  8.  0.  0.  0.  6.]\n",
            " [ 0.  0.  1.  0.  1.  0. 17.  0.  1.  0.]\n",
            " [ 7.  0.  2.  0. 17.  0.  0. 14.  0.  2.]\n",
            " [ 0.  0.  7.  0.  0.  0.  0.  0.  0.  0.]\n",
            " [ 1.  0.  7.  1.  7.  1.  0.  2.  0. 44.]]\n",
            "Accuracy Score -> 0.558282208588957\n",
            "\n",
            "\n",
            "time: 9.15 ms\n"
          ],
          "name": "stdout"
        }
      ]
    },
    {
      "cell_type": "code",
      "metadata": {
        "id": "bR_B3y8LtK-s",
        "colab": {
          "base_uri": "https://localhost:8080/"
        },
        "outputId": "a01438f5-62a7-4cbd-e42f-a54f7a80c210"
      },
      "source": [
        "#----------------------------------------------------------------------\n",
        "# Saving the trained model\n",
        "#----------------------------------------------------------------------\n",
        "estimator.save(default + folder + 'melModel(' + str(num_frames) + ')')"
      ],
      "execution_count": null,
      "outputs": [
        {
          "output_type": "stream",
          "text": [
            "INFO:tensorflow:Assets written to: /content/drive/MyDrive/All_Data/data_splits/Splitted_Data(5)/melModel(201)/assets\n",
            "time: 2.27 s\n"
          ],
          "name": "stdout"
        }
      ]
    },
    {
      "cell_type": "markdown",
      "metadata": {
        "id": "FfrrNEYfv0_X"
      },
      "source": [
        "**Testing Section**"
      ]
    },
    {
      "cell_type": "code",
      "metadata": {
        "colab": {
          "base_uri": "https://localhost:8080/"
        },
        "id": "QtzMjmdVLk2m",
        "outputId": "9c6d1ecd-1e06-4ee5-cddf-5d47ebefba8e"
      },
      "source": [
        "#----------------------------------------------------------------------\n",
        "# Loading data of test_task2 and declaring some parameters\n",
        "#----------------------------------------------------------------------\n",
        "data_test=[]\n",
        "for i in range(1,31):\n",
        "    if (i<10):\n",
        "        a = 'a00' + str(i)\n",
        "    else:\n",
        "        a = 'a0' + str(i)\n",
        "    data_test.append(a)\n",
        "\n",
        "hop_size = 25\n",
        "w_s = 10\n",
        "min = 5"
      ],
      "execution_count": 20,
      "outputs": [
        {
          "output_type": "stream",
          "text": [
            "time: 2.66 ms\n"
          ],
          "name": "stdout"
        }
      ]
    },
    {
      "cell_type": "code",
      "metadata": {
        "colab": {
          "base_uri": "https://localhost:8080/"
        },
        "id": "yi4zVhTjRqlZ",
        "collapsed": true,
        "outputId": "49d675df-7771-407a-c1a2-f13df177f8df"
      },
      "source": [
        "#----------------------------------------------------------------------\r\n",
        "# Organizing data of test task 2 to test the model\r\n",
        "#----------------------------------------------------------------------\r\n",
        "\r\n",
        "flag=1\r\n",
        "\r\n",
        "for _ in data_test:\r\n",
        "    if(_ == 'slice_file_name'):\r\n",
        "        continue\r\n",
        "    if (_[-3:]=='wav'):\r\n",
        "        a = _[0:-4] + '.npy'\r\n",
        "    else:\r\n",
        "      a = _ + '.npy'\r\n",
        "\r\n",
        "    temp_data_test = np.transpose(mel.dot(np.load(default + test_folder + 'feats/' + a)))\r\n",
        "    \r\n",
        "    length = len(temp_data_test)\r\n",
        "    if (length<num_frames):\r\n",
        "        num_pad = (num_frames - length%num_frames)%num_frames\r\n",
        "    else:\r\n",
        "        num_pad = (hop_size - (length-num_frames)%hop_size)%hop_size\r\n",
        "    \r\n",
        "    temp_data_test = np.pad(temp_data_test, [(0,num_pad),(0,0)])\r\n",
        "    length = len(temp_data_test)\r\n",
        "\r\n",
        "    temp_X = np.vstack(np.array([temp_data_test[i:i+num_frames]]) for i in range(0, (length-num_frames) + 1, hop_size))\r\n",
        "\r\n",
        "    if (flag):\r\n",
        "        X_test = temp_X\r\n",
        "        # Y_test = np.vstack([data_test[_]]*(length//num_frames))\r\n",
        "        test_labels = np.array([[(length-num_frames)//hop_size + 1]])\r\n",
        "    else:\r\n",
        "        X_test = np.append(X_test, temp_X, axis=0)\r\n",
        "        # Y_test = np.append(Y_test, np.vstack([data_test[_]]*(length//num_frames)), axis=0)\r\n",
        "        test_labels = np.append(test_labels, np.array([[(length-num_frames)//hop_size + 1]]), axis=0)\r\n",
        "    flag=0"
      ],
      "execution_count": 21,
      "outputs": [
        {
          "output_type": "stream",
          "text": [
            "/usr/local/lib/python3.6/dist-packages/ipykernel_launcher.py:26: FutureWarning: arrays to stack must be passed as a \"sequence\" type such as list or tuple. Support for non-sequence iterables such as generators is deprecated as of NumPy 1.16 and will raise an error in the future.\n"
          ],
          "name": "stderr"
        },
        {
          "output_type": "stream",
          "text": [
            "time: 4.59 s\n"
          ],
          "name": "stdout"
        }
      ]
    },
    {
      "cell_type": "code",
      "metadata": {
        "id": "txX6twnm_ycr",
        "colab": {
          "base_uri": "https://localhost:8080/"
        },
        "outputId": "285f5ae0-8707-41b2-9d09-9206dc80b0f0"
      },
      "source": [
        "#----------------------------------------------------------------------\r\n",
        "# Loading the Model and the label encoder\r\n",
        "#----------------------------------------------------------------------\r\n",
        "model = models.load_model(default + folder + 'melModel(' + str(num_frames) + ')')\r\n",
        "\r\n",
        "encoder = LabelEncoder()\r\n",
        "encoder.classes_ = np.load(default + 'classes.npy')\r\n",
        "\r\n",
        "#----------------------------------------------------------------------\r\n",
        "# Predicting labels of each extracted frame\r\n",
        "#----------------------------------------------------------------------\r\n",
        "\r\n",
        "X_test = np.reshape(X_test, (X_test.shape[0], X_test.shape[1], X_test.shape[2], 1))\r\n",
        "\r\n",
        "predictions = np.argmax(model.predict(X_test), axis=-1)\r\n",
        "predictions_one_hot = np_utils.to_categorical(predictions)"
      ],
      "execution_count": 22,
      "outputs": [
        {
          "output_type": "stream",
          "text": [
            "time: 3.99 s\n"
          ],
          "name": "stdout"
        }
      ]
    },
    {
      "cell_type": "code",
      "metadata": {
        "colab": {
          "base_uri": "https://localhost:8080/"
        },
        "id": "90za6HkJrk4q",
        "outputId": "c7bebfd5-ab80-4e48-b1b5-006dbcc6e89b"
      },
      "source": [
        "#----------------------------------------------------------------------\n",
        "# Filtering out required prediction\n",
        "#----------------------------------------------------------------------\n",
        "\n",
        "Full_Prediction = []\n",
        "\n",
        "i=0\n",
        "for j in range(len(test_labels)):\n",
        "    index = test_labels[j][0]+i\n",
        "    A = predictions_one_hot[i:index, :]\n",
        "    temp_list=[]\n",
        "    last_element=-1\n",
        "    for t in range(len(A)-w_s):\n",
        "        B = np.sum(A[t:t+w_s, :], axis=0)\n",
        "        b = np.argmax(B)\n",
        "        if (B[b]<min):\n",
        "            continue\n",
        "        elif (b==last_element):\n",
        "            continue\n",
        "        else :\n",
        "            temp_list.append(b)\n",
        "            last_element = b\n",
        "    Full_Prediction.append(temp_list)\n",
        "    i=index\n",
        "\n",
        "for i in range(len(Full_Prediction)):\n",
        "    Full_Prediction[i]=encoder.inverse_transform(Full_Prediction[i])"
      ],
      "execution_count": 23,
      "outputs": [
        {
          "output_type": "stream",
          "text": [
            "time: 33.1 ms\n"
          ],
          "name": "stdout"
        }
      ]
    },
    {
      "cell_type": "code",
      "metadata": {
        "colab": {
          "base_uri": "https://localhost:8080/"
        },
        "id": "cUHbucC99UHA",
        "outputId": "dfc1597e-6068-4e79-cc98-4f0360b2c1dd"
      },
      "source": [
        "#----------------------------------------------------------------------\n",
        "# Extracting and saing the labels in the required format\n",
        "#----------------------------------------------------------------------\n",
        "output = {}\n",
        "i=0\n",
        "\n",
        "for _ in data_test:\n",
        "    output[_] = '-'.join(Full_Prediction[i])\n",
        "    i=i+1\n",
        "\n",
        "with open(default + test_folder + 'est(25).csv', 'w') as csvfile:\n",
        "    writer = csv.writer(csvfile)\n",
        "    for key, value in output.items():\n",
        "        writer.writerow([key, value])"
      ],
      "execution_count": 24,
      "outputs": [
        {
          "output_type": "stream",
          "text": [
            "time: 11.2 ms\n"
          ],
          "name": "stdout"
        }
      ]
    }
  ]
}