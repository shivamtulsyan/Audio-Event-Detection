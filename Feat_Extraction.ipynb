{
 "cells": [
  {
   "cell_type": "code",
   "execution_count": null,
   "metadata": {},
   "outputs": [],
   "source": [
    "import librosa\n",
    "import numpy as np"
   ]
  },
  {
   "cell_type": "code",
   "execution_count": null,
   "metadata": {},
   "outputs": [],
   "source": [
    "#----------------------------------------------------------------------\n",
    "# Function to extract features from a audio file\n",
    "#----------------------------------------------------------------------\n",
    "def wav2feat(wavfile):\n",
    "    '''\n",
    "    Input: audio wav file name\n",
    "    Output: Magnitude spectrogram\n",
    "    '''\n",
    "    x, Fs = librosa.load(wavfile, sr=44100, mono=True) \n",
    "    hop = int(0.01 * Fs) # 10ms\n",
    "    win = int(0.02 * Fs) # 20ms\n",
    "    X = librosa.stft(x, n_fft=1024, hop_length=hop, win_length=win, window='hann', center=True, pad_mode='reflect')\n",
    "    return np.abs(X)"
   ]
  },
  {
   "cell_type": "code",
   "execution_count": null,
   "metadata": {},
   "outputs": [],
   "source": [
    "#----------------------------------------------------------------------\n",
    "# Function to read true labels\n",
    "#----------------------------------------------------------------------\n",
    "def read_csv(filename):\n",
    "    id_label = {}\n",
    "    with open(filename,'r') as fid:\n",
    "        for line in fid:\n",
    "            tokens = line.strip().split(',')\n",
    "            id_label[tokens[0]] = tokens[1]\n",
    "    return id_label"
   ]
  },
  {
   "cell_type": "code",
   "execution_count": null,
   "metadata": {},
   "outputs": [],
   "source": [
    "#----------------------------------------------------------------------\n",
    "# Extracting Features from stereo audio files\n",
    "#----------------------------------------------------------------------\n",
    "data = read_csv('labels_train.csv')\n",
    "flag=0\n",
    "for _ in data:\n",
    "    if(flag):\n",
    "        feat_data = wav2feat('audio_train/' + _)\n",
    "        _ = _[0:-4]\n",
    "#         _ = _ + 'npy'\n",
    "        np.save('Training_data/' + _, feat_data)\n",
    "    flag=1"
   ]
  },
  {
   "cell_type": "code",
   "execution_count": null,
   "metadata": {},
   "outputs": [],
   "source": [
    "#----------------------------------------------------------------------\n",
    "# Extracting Features from mono audio files\n",
    "#----------------------------------------------------------------------\n",
    "data = read_csv('labels_train.csv')\n",
    "flag=0\n",
    "for _ in data:\n",
    "    if(flag):\n",
    "        feat_data = wav2feat('audio_train_1ch/' + _)\n",
    "        _ = _[0:-4]\n",
    "#         _ = _ + 'npy'\n",
    "        np.save('Training_data_1ch/' + _, feat_data)\n",
    "    flag=1"
   ]
  }
 ],
 "metadata": {
  "kernelspec": {
   "display_name": "Python 3",
   "language": "python",
   "name": "python3"
  },
  "language_info": {
   "codemirror_mode": {
    "name": "ipython",
    "version": 3
   },
   "file_extension": ".py",
   "mimetype": "text/x-python",
   "name": "python",
   "nbconvert_exporter": "python",
   "pygments_lexer": "ipython3",
   "version": "3.8.5"
  }
 },
 "nbformat": 4,
 "nbformat_minor": 4
}
