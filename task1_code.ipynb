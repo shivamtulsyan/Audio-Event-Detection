{
  "nbformat": 4,
  "nbformat_minor": 0,
  "metadata": {
    "accelerator": "GPU",
    "colab": {
      "name": "task1_code.ipynb",
      "provenance": [],
      "collapsed_sections": []
    },
    "kernelspec": {
      "display_name": "Python 3",
      "language": "python",
      "name": "python3"
    },
    "language_info": {
      "codemirror_mode": {
        "name": "ipython",
        "version": 3
      },
      "file_extension": ".py",
      "mimetype": "text/x-python",
      "name": "python",
      "nbconvert_exporter": "python",
      "pygments_lexer": "ipython3",
      "version": "3.8.5"
    }
  },
  "cells": [
    {
      "cell_type": "code",
      "metadata": {
        "id": "kET7XusgRc7I",
        "colab": {
          "base_uri": "https://localhost:8080/"
        },
        "outputId": "a982bee2-ced3-4811-ee7f-a55b14e7a856"
      },
      "source": [
        "#----------------------------------------------------------------------\n",
        "# Importing all libraries needed\n",
        "#----------------------------------------------------------------------\n",
        "\n",
        "from numpy.random import seed\n",
        "seed(1)\n",
        "import tensorflow as tf\n",
        "tf.random.set_seed(2)\n",
        "\n",
        "import numpy as np\n",
        "import csv\n",
        "import pandas as pd\n",
        "import matplotlib.pyplot as plt\n",
        "\n",
        "from librosa.filters import mel\n",
        "from collections import Counter\n",
        "from tensorflow.keras import models\n",
        "from tensorflow.keras.models import Sequential\n",
        "from tensorflow.keras.layers import Dense, Conv2D, Flatten, MaxPool2D, Dropout, MaxPooling2D\n",
        "from tensorflow.keras.regularizers import l2\n",
        "from keras.utils import np_utils\n",
        "from sklearn.preprocessing import LabelEncoder\n",
        "from sklearn.metrics import confusion_matrix\n",
        "from sklearn.metrics import accuracy_score\n"
      ],
      "execution_count": 36,
      "outputs": [
        {
          "output_type": "stream",
          "text": [
            "time: 13.4 ms\n"
          ],
          "name": "stdout"
        }
      ]
    },
    {
      "cell_type": "code",
      "metadata": {
        "id": "JA5D9rJe_DAx",
        "colab": {
          "base_uri": "https://localhost:8080/"
        },
        "outputId": "8178fdc8-a52d-46d4-d3da-7e9c75391186"
      },
      "source": [
        "#----------------------------------------------------------------------\r\n",
        "# script to print execution time of each cell\r\n",
        "#----------------------------------------------------------------------\r\n",
        "%%capture\r\n",
        "\r\n",
        "!pip install ipython-autotime\r\n",
        "\r\n",
        "%load_ext autotime"
      ],
      "execution_count": 37,
      "outputs": [
        {
          "output_type": "stream",
          "text": [
            "time: 2.88 s\n"
          ],
          "name": "stdout"
        }
      ]
    },
    {
      "cell_type": "code",
      "metadata": {
        "id": "eykP8ttORsPX",
        "colab": {
          "base_uri": "https://localhost:8080/"
        },
        "outputId": "7900e087-362f-44d0-eccd-42a3b7d9110c"
      },
      "source": [
        "#----------------------------------------------------------------------\n",
        "# Script to mount Google Drive\n",
        "#----------------------------------------------------------------------\n",
        "from google.colab import drive\n",
        "drive.mount('/content/drive')"
      ],
      "execution_count": 38,
      "outputs": [
        {
          "output_type": "stream",
          "text": [
            "Drive already mounted at /content/drive; to attempt to forcibly remount, call drive.mount(\"/content/drive\", force_remount=True).\n",
            "time: 1.7 ms\n"
          ],
          "name": "stdout"
        }
      ]
    },
    {
      "cell_type": "code",
      "metadata": {
        "colab": {
          "base_uri": "https://localhost:8080/"
        },
        "id": "t6oR1R2xT4Pi",
        "outputId": "be345081-cbd9-415f-e66c-f8d978188a93"
      },
      "source": [
        "#----------------------------------------------------------------------\n",
        "# Setting default Location and no of frames\n",
        "#----------------------------------------------------------------------\n",
        "\n",
        "default = '/content/drive/MyDrive/All_Data/'\n",
        "\n",
        "folder = 'data_splits/Splitted_Data(5)/'\n",
        "test_folder = 'test_task1/'\n",
        "\n",
        "num_frames = 401"
      ],
      "execution_count": 39,
      "outputs": [
        {
          "output_type": "stream",
          "text": [
            "time: 4.03 ms\n"
          ],
          "name": "stdout"
        }
      ]
    },
    {
      "cell_type": "code",
      "metadata": {
        "colab": {
          "base_uri": "https://localhost:8080/"
        },
        "id": "KfzILDvSRc7K",
        "outputId": "3679f7b6-1535-4778-f5d3-724fc75bc601"
      },
      "source": [
        "#----------------------------------------------------------------------\n",
        "# Function to read Training files name and corresponding labels\n",
        "#----------------------------------------------------------------------\n",
        "def read_csv(filename):\n",
        "    id_label = {}\n",
        "    with open(filename,'r') as fid:\n",
        "        for line in fid:\n",
        "            tokens = line.strip().split(',')\n",
        "            id_label[tokens[0]] = tokens[1]\n",
        "    return id_label"
      ],
      "execution_count": 40,
      "outputs": [
        {
          "output_type": "stream",
          "text": [
            "time: 7.47 ms\n"
          ],
          "name": "stdout"
        }
      ]
    },
    {
      "cell_type": "code",
      "metadata": {
        "id": "eP4uO-7drFVA",
        "colab": {
          "base_uri": "https://localhost:8080/"
        },
        "outputId": "550c5661-e0d4-4091-a6f0-54221016cab9"
      },
      "source": [
        "#----------------------------------------------------------------------\n",
        "# Making the mel transform matrix\n",
        "#----------------------------------------------------------------------\n",
        "n_mels = 513\n",
        "n_fft = 1024\n",
        "sr = 44100\n",
        "mel = mel(sr = sr, n_fft = n_fft, n_mels = n_mels)\n",
        "mel.shape"
      ],
      "execution_count": 41,
      "outputs": [
        {
          "output_type": "stream",
          "text": [
            "/usr/local/lib/python3.6/dist-packages/librosa/filters.py:284: UserWarning: Empty filters detected in mel frequency basis. Some channels will produce empty responses. Try increasing your sampling rate (and fmax) or reducing n_mels.\n",
            "  warnings.warn('Empty filters detected in mel frequency basis. '\n"
          ],
          "name": "stderr"
        },
        {
          "output_type": "execute_result",
          "data": {
            "text/plain": [
              "(513, 513)"
            ]
          },
          "metadata": {
            "tags": []
          },
          "execution_count": 41
        },
        {
          "output_type": "stream",
          "text": [
            "time: 16.4 ms\n"
          ],
          "name": "stdout"
        }
      ]
    },
    {
      "cell_type": "markdown",
      "metadata": {
        "id": "vZ2c-aGnyf8L"
      },
      "source": [
        "**Training Section**"
      ]
    },
    {
      "cell_type": "code",
      "metadata": {
        "id": "lFtc-DC9A6rG",
        "colab": {
          "base_uri": "https://localhost:8080/"
        },
        "outputId": "73074692-a174-4f56-d326-1e3b131055a5"
      },
      "source": [
        "#----------------------------------------------------------------------\r\n",
        "# Splitting the training data keeping the souces separated\r\n",
        "#----------------------------------------------------------------------\r\n",
        "data = read_csv(default + 'labels_train.csv')\r\n",
        "data_set = pd.read_csv(default + 'labels_train.csv')\r\n",
        "data_set = data_set.sample(frac=1).reset_index(drop=True)\r\n",
        "X = data_set['slice_file_name']\r\n",
        "Y = data_set['class']\r\n",
        "Train={}\r\n",
        "Val={}\r\n",
        "is_Train= {}\r\n",
        "X_Train = []\r\n",
        "Y_Train = []\r\n",
        "X_Val = []\r\n",
        "Y_Val = []\r\n",
        "for i in range(len(X)):\r\n",
        "    temp_X = X[i]\r\n",
        "    j = 0\r\n",
        "\r\n",
        "    while (j<len(temp_X) and temp_X[j]!='-'):\r\n",
        "        j+=1\r\n",
        "    fs_id = temp_X[0:j]\r\n",
        "    temp_label = data[temp_X]\r\n",
        "    if (fs_id in Train):\r\n",
        "        X_Train.append(temp_X)\r\n",
        "        Y_Train.append(temp_label)\r\n",
        "    elif (fs_id in Val):\r\n",
        "        X_Val.append(temp_X)\r\n",
        "        Y_Val.append(temp_label)\r\n",
        "    elif (temp_label in is_Train):\r\n",
        "        if (is_Train[temp_label]<2):\r\n",
        "            X_Train.append(temp_X)\r\n",
        "            Y_Train.append(temp_label)\r\n",
        "            Train[fs_id] = 1\r\n",
        "            is_Train[temp_label]+=1\r\n",
        "\r\n",
        "        elif (len(X_Train)<(4.5)*len(X_Val)):\r\n",
        "            X_Train.append(temp_X)\r\n",
        "            Y_Train.append(temp_label)\r\n",
        "            Train[fs_id] = 1\r\n",
        "        else:\r\n",
        "            X_Val.append(temp_X)\r\n",
        "            Val[fs_id] = 1\r\n",
        "            Y_Val.append(temp_label)\r\n",
        "    else:\r\n",
        "        X_Train.append(temp_X)\r\n",
        "        Y_Train.append(temp_label)\r\n",
        "        Train[fs_id] = 1\r\n",
        "        is_Train[temp_label]=1\r\n",
        "# print(len(X_Train))\r\n",
        "# print(len(X_Val))\r\n",
        "# print(len(Y_Train))\r\n",
        "# print(len(Y_Val))"
      ],
      "execution_count": null,
      "outputs": [
        {
          "output_type": "stream",
          "text": [
            "1434\n",
            "327\n",
            "1434\n",
            "327\n",
            "time: 51.6 ms\n"
          ],
          "name": "stdout"
        }
      ]
    },
    {
      "cell_type": "code",
      "metadata": {
        "id": "3Vo_vrz1EhDZ",
        "colab": {
          "base_uri": "https://localhost:8080/",
          "height": 691
        },
        "outputId": "f8e05462-2966-4241-888e-fc757bf341f4"
      },
      "source": [
        "#----------------------------------------------------------------------\r\n",
        "# Plotting the Bar plots to see if the split is good enough\r\n",
        "#----------------------------------------------------------------------\r\n",
        "\r\n",
        "count1 = Counter(Ytrain)\r\n",
        "df1 = pd.DataFrame.from_dict(count1, orient ='index')\r\n",
        "df1.plot(kind='bar')\r\n",
        "\r\n",
        "count2 = Counter(Yval)\r\n",
        "df2 = pd.DataFrame.from_dict(count2, orient ='index')\r\n",
        "df2.plot(kind='bar')"
      ],
      "execution_count": null,
      "outputs": [
        {
          "output_type": "execute_result",
          "data": {
            "text/plain": [
              "<matplotlib.axes._subplots.AxesSubplot at 0x7f860fd0bcf8>"
            ]
          },
          "metadata": {
            "tags": []
          },
          "execution_count": 11
        },
        {
          "output_type": "display_data",
          "data": {
            "image/png": "[encoded data removed]",
            "text/plain": [
              "<Figure size 432x288 with 1 Axes>"
            ]
          },
          "metadata": {
            "tags": [],
            "needs_background": "light"
          }
        },
        {
          "output_type": "display_data",
          "data": {
            "image/png": "[encoded data removed]",
            "text/plain": [
              "<Figure size 432x288 with 1 Axes>"
            ]
          },
          "metadata": {
            "tags": [],
            "needs_background": "light"
          }
        },
        {
          "output_type": "stream",
          "text": [
            "time: 398 ms\n"
          ],
          "name": "stdout"
        }
      ]
    },
    {
      "cell_type": "code",
      "metadata": {
        "id": "X3lZszIFGg65",
        "colab": {
          "base_uri": "https://localhost:8080/"
        },
        "outputId": "6e5ebbcf-c690-4d55-fb66-724b63358d9c"
      },
      "source": [
        "#----------------------------------------------------------------------\r\n",
        "# Converting the splitted data to dictionary format\r\n",
        "#----------------------------------------------------------------------\r\n",
        "data_train={}\r\n",
        "data_val={}\r\n",
        "for i in range(len(Xtrain)):\r\n",
        "  data_train[Xtrain[i]]=Ytrain[i]\r\n",
        "for i in range(len(Xval)):\r\n",
        "  data_val[Xval[i]]=Yval[i]"
      ],
      "execution_count": null,
      "outputs": [
        {
          "output_type": "stream",
          "text": [
            "time: 3.33 ms\n"
          ],
          "name": "stdout"
        }
      ]
    },
    {
      "cell_type": "code",
      "metadata": {
        "id": "7MiDduK58k09",
        "colab": {
          "base_uri": "https://localhost:8080/"
        },
        "outputId": "5202933e-0fe8-493c-96c1-fdef1851955f"
      },
      "source": [
        "#----------------------------------------------------------------------\n",
        "# Saving the Spliited Data in Dictionary Format\n",
        "#----------------------------------------------------------------------\n",
        "field_names= ['slice_file_name', 'label']\n",
        "\n",
        "with open(default + folder + 'data_train.csv', 'w') as csvfile:\n",
        "    writer = csv.writer(csvfile)\n",
        "    for key, value in data_train.items():\n",
        "       writer.writerow([key, value])\n",
        "\n",
        "with open(default + folder + 'data_val.csv', 'w') as csvfile:\n",
        "    writer = csv.writer(csvfile)\n",
        "    for key, value in data_val.items():\n",
        "       writer.writerow([key, value])"
      ],
      "execution_count": null,
      "outputs": [
        {
          "output_type": "stream",
          "text": [
            "time: 18.6 ms\n"
          ],
          "name": "stdout"
        }
      ]
    },
    {
      "cell_type": "code",
      "metadata": {
        "id": "6rMihn2s8rtl",
        "colab": {
          "base_uri": "https://localhost:8080/"
        },
        "outputId": "155111ec-26b2-4157-d75c-3f6d62a26752"
      },
      "source": [
        "#----------------------------------------------------------------------\n",
        "# Loading the saved splitted data in dictinoary format\n",
        "#----------------------------------------------------------------------\n",
        "\n",
        "with open(default + folder + 'data_train.csv') as csv_file:\n",
        "    reader = csv.reader(csv_file)\n",
        "    data_train = dict(reader)\n",
        "\n",
        "with open(default + folder + 'data_val.csv') as csv_file:\n",
        "    reader = csv.reader(csv_file)\n",
        "    data_val = dict(reader)"
      ],
      "execution_count": null,
      "outputs": [
        {
          "output_type": "stream",
          "text": [
            "time: 15.5 ms\n"
          ],
          "name": "stdout"
        }
      ]
    },
    {
      "cell_type": "code",
      "metadata": {
        "id": "na5gMzu2EUhH"
      },
      "source": [
        "#----------------------------------------------------------------------\r\n",
        "# Organizing the training data and reshaping for further use\r\n",
        "#----------------------------------------------------------------------\r\n",
        "\r\n",
        "flag1=1 \r\n",
        "flag2=1\r\n",
        "\r\n",
        "for _ in data_train:\r\n",
        "    if(flag1):\r\n",
        "        \r\n",
        "        a = _[0:-4]\r\n",
        "        a = a + '.npy'\r\n",
        "        \r\n",
        "        temp_data_train = np.transpose(mel.dot(np.load(default + 'Training_data_1ch/' + a)))\r\n",
        "        \r\n",
        "        length = len(temp_data_train)\r\n",
        "        num_pad = (num_frames - (length)%num_frames)%num_frames\r\n",
        "        temp_data_train = np.pad(temp_data_train, [(0,num_pad),(0,0)])\r\n",
        "        length = len(temp_data_train)\r\n",
        "        \r\n",
        "        if (flag2):\r\n",
        "            X_train = np.reshape(temp_data_train, [length//num_frames, num_frames, temp_data_train.shape[1]])\r\n",
        "            Y_train = np.vstack([data_train[_]]*(length//num_frames))\r\n",
        "            train_labels = np.array([[length//num_frames, data_train[_]]])\r\n",
        "        else:\r\n",
        "            X_train = np.append(X_train, np.reshape(temp_data_train, [length//num_frames, num_frames, temp_data_train.shape[1]]), axis=0)\r\n",
        "            Y_train = np.append(Y_train, np.vstack([data_train[_]]*(length//num_frames)), axis=0)\r\n",
        "            train_labels = np.append(train_labels, np.array([[length//num_frames, data_train[_]]]), axis=0)\r\n",
        "        flag2=0\r\n",
        "    flag1=1"
      ],
      "execution_count": null,
      "outputs": []
    },
    {
      "cell_type": "code",
      "metadata": {
        "id": "EWN1AQ7O81iK"
      },
      "source": [
        "#----------------------------------------------------------------------\n",
        "# Saving the Training Data\n",
        "#----------------------------------------------------------------------\n",
        "\n",
        "print(X_train.shape)\n",
        "print(Y_train.shape)\n",
        "print(train_labels)\n",
        "\n",
        "np.save(default + folder + 'melTrain(' + str(num_frames) +')/X_train', X_train)\n",
        "np.save(default + folder + 'melTrain(' + str(num_frames) +')/Y_train', Y_train)\n",
        "np.save(default + folder + 'melTrain(' + str(num_frames) +')/train_labels', train_labels)"
      ],
      "execution_count": null,
      "outputs": []
    },
    {
      "cell_type": "code",
      "metadata": {
        "id": "w46pDwOqVkIy",
        "colab": {
          "base_uri": "https://localhost:8080/"
        },
        "outputId": "80990cbb-15ab-4ab5-9bc5-3f1859749c7c"
      },
      "source": [
        "#----------------------------------------------------------------------\n",
        "# Loading the Training Data\n",
        "#----------------------------------------------------------------------\n",
        "X_train = np.load(default + folder + 'melTrain(' + str(num_frames) +')/'+'X_train.npy')\n",
        "Y_train = np.load(default + folder + 'melTrain(' + str(num_frames) +')/'+'Y_train.npy')\n",
        "train_labels = np.load(default + folder + 'melTrain(' + str(num_frames) +')/'+'train_labels.npy')"
      ],
      "execution_count": 7,
      "outputs": [
        {
          "output_type": "stream",
          "text": [
            "time: 30.9 s\n"
          ],
          "name": "stdout"
        }
      ]
    },
    {
      "cell_type": "code",
      "metadata": {
        "id": "3dmHGlZRRc7M",
        "colab": {
          "base_uri": "https://localhost:8080/"
        },
        "outputId": "855d40b8-01b4-4467-8c7c-dba7d9d51f0c"
      },
      "source": [
        "#----------------------------------------------------------------------\n",
        "# Organizing true labels to one hot vectors\n",
        "#----------------------------------------------------------------------\n",
        "encoder = LabelEncoder()\n",
        "encoder.fit(Y_train.ravel())\n",
        "np.save(default + 'classes.npy', encoder.classes_)\n",
        "\n",
        "encoded_Y_train = encoder.transform(Y_train.ravel())\n",
        "one_hot_Y_train = np_utils.to_categorical(encoded_Y_train)\n",
        "\n",
        "labels = np.unique(encoded_Y_train)\n",
        "n_feat = X_train.shape[2]\n",
        "\n",
        "train_labels[:,1] = encoder.transform(train_labels[:,1])\n",
        "train_labels = train_labels.astype('int')"
      ],
      "execution_count": 8,
      "outputs": [
        {
          "output_type": "stream",
          "text": [
            "time: 383 ms\n"
          ],
          "name": "stdout"
        }
      ]
    },
    {
      "cell_type": "code",
      "metadata": {
        "id": "V_5abhLaRc7O"
      },
      "source": [
        "#----------------------------------------------------------------------\n",
        "# Organizing the validation data and reshaping for further use\n",
        "#----------------------------------------------------------------------\n",
        "flag1=1\n",
        "flag2=1\n",
        "\n",
        "for _ in data_val:\n",
        "    if(flag1):\n",
        "        \n",
        "        a = _[0:-4]\n",
        "        a = a + '.npy'\n",
        "        \n",
        "        temp_data_val = np.transpose(mel.dot(np.load(default + 'Training_data_1ch/' + a)))\n",
        "        \n",
        "        length = len(temp_data_val)\n",
        "        num_pad = (num_frames - (length)%num_frames)%num_frames\n",
        "        temp_data_val = np.pad(temp_data_val, [(0,num_pad),(0,0)])\n",
        "        length = len(temp_data_val)\n",
        "        \n",
        "        if (flag2):\n",
        "            X_val = np.reshape(temp_data_val, [length//num_frames, num_frames, temp_data_val.shape[1]])\n",
        "            Y_val = np.vstack([data_val[_]]*(length//num_frames))\n",
        "            val_labels = np.array([[length//num_frames, data_val[_]]])\n",
        "        else:\n",
        "            X_val = np.append(X_val, np.reshape(temp_data_val, [length//num_frames, num_frames, temp_data_val.shape[1]]), axis=0)\n",
        "            Y_val = np.append(Y_val, np.vstack([data_val[_]]*(length//num_frames)), axis=0)\n",
        "            val_labels = np.append(val_labels, np.array([[length//num_frames, data_val[_]]]), axis=0)\n",
        "        flag2=0\n",
        "    flag1=1"
      ],
      "execution_count": null,
      "outputs": []
    },
    {
      "cell_type": "code",
      "metadata": {
        "id": "ZJGlym_-9Txl"
      },
      "source": [
        "#----------------------------------------------------------------------\n",
        "# Saving the Validation data\n",
        "#----------------------------------------------------------------------\n",
        "print(X_val.shape)\n",
        "print(Y_val.shape)\n",
        "print(val_labels.shape)\n",
        "\n",
        "np.save(default + folder + 'melValidate(' + str(num_frames) +')/X_val', X_val)\n",
        "np.save(default + folder + 'melValidate(' + str(num_frames) +')/Y_val', Y_val)\n",
        "np.save(default + folder + 'melValidate(' + str(num_frames) +')/val_labels', val_labels)"
      ],
      "execution_count": null,
      "outputs": []
    },
    {
      "cell_type": "code",
      "metadata": {
        "id": "Mr0UhFZoV2wb",
        "colab": {
          "base_uri": "https://localhost:8080/"
        },
        "outputId": "e8dd6767-e0c3-40ff-c924-d69bd4e53152"
      },
      "source": [
        "#----------------------------------------------------------------------\n",
        "# Loading the Validation data\n",
        "#----------------------------------------------------------------------\n",
        "\n",
        "X_val = np.load(default + folder + 'melValidate(' + str(num_frames) +')/'+'X_val.npy')\n",
        "Y_val = np.load(default + folder + 'melValidate(' + str(num_frames) +')/'+'Y_val.npy')\n",
        "val_labels = np.load(default + folder + 'melValidate(' + str(num_frames) +')/'+'val_labels.npy')"
      ],
      "execution_count": 9,
      "outputs": [
        {
          "output_type": "stream",
          "text": [
            "time: 5.93 s\n"
          ],
          "name": "stdout"
        }
      ]
    },
    {
      "cell_type": "code",
      "metadata": {
        "id": "14bTZ4p_WscY",
        "colab": {
          "base_uri": "https://localhost:8080/"
        },
        "outputId": "85a76f39-d6bd-419c-826d-a71afad612e1"
      },
      "source": [
        "#----------------------------------------------------------------------\n",
        "# Organizing true labels to one hot vectors of validation data\n",
        "#----------------------------------------------------------------------\n",
        "encoded_Y_val = encoder.transform(Y_val.ravel())\n",
        "one_hot_Y_val = np_utils.to_categorical(encoded_Y_val)\n",
        "\n",
        "val_labels[:,1] = encoder.transform(val_labels[:,1])\n",
        "val_labels = val_labels.astype('int')"
      ],
      "execution_count": 10,
      "outputs": [
        {
          "output_type": "stream",
          "text": [
            "time: 5.03 ms\n"
          ],
          "name": "stdout"
        }
      ]
    },
    {
      "cell_type": "markdown",
      "metadata": {
        "id": "dmI-3IRugN4s"
      },
      "source": [
        "**CNN**"
      ]
    },
    {
      "cell_type": "code",
      "metadata": {
        "id": "gWQ_7r_ZdMP9",
        "colab": {
          "base_uri": "https://localhost:8080/"
        },
        "outputId": "70fa207a-9191-429b-ac82-d50462093740"
      },
      "source": [
        "#----------------------------------------------------------------------\r\n",
        "# Reshaping the Data for cnn model\r\n",
        "#----------------------------------------------------------------------\r\n",
        "X_train = np.reshape(X_train, (X_train.shape[0], X_train.shape[1], X_train.shape[2], 1))\r\n",
        "X_val = np.reshape(X_val, (X_val.shape[0], X_val.shape[1], X_val.shape[2], 1))\r\n",
        "input_dim = (num_frames, n_feat, 1)\r\n",
        "output_dim = one_hot_Y_train.shape[1]\r\n",
        "\r\n",
        "seed(1)\r\n",
        "tf.random.set_seed(2)\r\n",
        "\r\n",
        "#----------------------------------------------------------------------\r\n",
        "# Defining the cnn model\r\n",
        "#----------------------------------------------------------------------\r\n",
        "def cnn_model():\r\n",
        "\r\n",
        "    model = Sequential()\r\n",
        "\r\n",
        "    model.add(Conv2D(32,kernel_size=(3,8),strides=(1,1),padding=\"Same\",input_shape=input_dim, activation = 'relu',kernel_regularizer = l2(0.001)))\r\n",
        "    model.add(Conv2D(32,kernel_size=(3,5),strides=(1,1),padding=\"same\", kernel_regularizer = l2(0.001)))\r\n",
        "    model.add(MaxPooling2D(pool_size = (4,3), strides = (4,3)))\r\n",
        "    \r\n",
        "\r\n",
        "    model.add(Conv2D(64,kernel_size=(3,1),strides=(1,1),padding=\"Same\",kernel_regularizer = l2(0.001)))\r\n",
        "    model.add(Conv2D(64,kernel_size=(3,1),strides=(1,1),padding=\"same\",kernel_regularizer = l2(0.001)))\r\n",
        "    model.add(MaxPooling2D(pool_size = (4,1), strides = (4,1)))\r\n",
        "\r\n",
        "    model.add(Conv2D(128,kernel_size=(1,5),strides=(1,1),padding=\"Same\",kernel_regularizer = l2(0.001)))\r\n",
        "    model.add(Conv2D(128,kernel_size=(1,5),strides=(1,1),padding=\"same\",kernel_regularizer = l2(0.001)))\r\n",
        "    model.add(MaxPooling2D(pool_size = (1,3), strides = (1,3)))\r\n",
        "\r\n",
        "    model.add(Flatten())\r\n",
        "    model.add(Dense(256,activation=\"relu\"))\r\n",
        "    model.add(Dropout(0.7))\r\n",
        "\r\n",
        "    model.add(Dense(64,activation=\"relu\"))\r\n",
        "    model.add(Dropout(0.3))\r\n",
        "\r\n",
        "    model.add(Dense(output_dim,activation=\"softmax\"))\r\n",
        "    model.compile(loss='categorical_crossentropy', optimizer='rmsprop', metrics=['accuracy'])\r\n",
        "\r\n",
        "    return model\r\n"
      ],
      "execution_count": 11,
      "outputs": [
        {
          "output_type": "stream",
          "text": [
            "time: 30.6 ms\n"
          ],
          "name": "stdout"
        }
      ]
    },
    {
      "cell_type": "code",
      "metadata": {
        "colab": {
          "base_uri": "https://localhost:8080/"
        },
        "id": "HZCgzdIvIuEY",
        "outputId": "cda85850-a1b8-4fe6-d179-67b6647ba382"
      },
      "source": [
        "#----------------------------------------------------------------------\n",
        "# Calculating the model\n",
        "#----------------------------------------------------------------------\n",
        "estimator = cnn_model()\n",
        "history = estimator.fit(X_train, one_hot_Y_train, validation_data = (X_val, one_hot_Y_val), epochs = 20, batch_size = 32)"
      ],
      "execution_count": 14,
      "outputs": [
        {
          "output_type": "stream",
          "text": [
            "Epoch 1/20\n",
            " 2/45 [>.............................] - ETA: 14s - loss: 5.3021 - accuracy: 0.0781WARNING:tensorflow:Callbacks method `on_train_batch_end` is slow compared to the batch time (batch time: 0.1277s vs `on_train_batch_end` time: 0.2570s). Check your callbacks.\n",
            "45/45 [==============================] - 19s 428ms/step - loss: 4.1323 - accuracy: 0.1512 - val_loss: 2.5527 - val_accuracy: 0.0644\n",
            "Epoch 2/20\n",
            "45/45 [==============================] - 19s 415ms/step - loss: 2.7072 - accuracy: 0.1805 - val_loss: 2.7098 - val_accuracy: 0.1564\n",
            "Epoch 3/20\n",
            "45/45 [==============================] - 18s 409ms/step - loss: 2.6103 - accuracy: 0.2014 - val_loss: 2.5853 - val_accuracy: 0.2025\n",
            "Epoch 4/20\n",
            "45/45 [==============================] - 18s 407ms/step - loss: 2.4357 - accuracy: 0.2669 - val_loss: 2.3553 - val_accuracy: 0.3313\n",
            "Epoch 5/20\n",
            "45/45 [==============================] - 18s 407ms/step - loss: 2.4481 - accuracy: 0.2941 - val_loss: 2.5276 - val_accuracy: 0.2025\n",
            "Epoch 6/20\n",
            "45/45 [==============================] - 18s 408ms/step - loss: 2.1925 - accuracy: 0.3436 - val_loss: 2.1817 - val_accuracy: 0.3620\n",
            "Epoch 7/20\n",
            "45/45 [==============================] - 18s 408ms/step - loss: 2.0825 - accuracy: 0.3805 - val_loss: 2.2650 - val_accuracy: 0.3834\n",
            "Epoch 8/20\n",
            "45/45 [==============================] - 19s 412ms/step - loss: 2.0143 - accuracy: 0.4160 - val_loss: 2.2891 - val_accuracy: 0.2730\n",
            "Epoch 9/20\n",
            "45/45 [==============================] - 18s 410ms/step - loss: 1.9028 - accuracy: 0.4348 - val_loss: 2.1574 - val_accuracy: 0.4663\n",
            "Epoch 10/20\n",
            "45/45 [==============================] - 18s 410ms/step - loss: 1.7760 - accuracy: 0.4822 - val_loss: 2.2353 - val_accuracy: 0.4632\n",
            "Epoch 11/20\n",
            "45/45 [==============================] - 19s 412ms/step - loss: 1.6612 - accuracy: 0.5303 - val_loss: 2.3477 - val_accuracy: 0.4294\n",
            "Epoch 12/20\n",
            "45/45 [==============================] - 19s 412ms/step - loss: 1.5711 - accuracy: 0.5700 - val_loss: 2.3246 - val_accuracy: 0.4693\n",
            "Epoch 13/20\n",
            "45/45 [==============================] - 19s 412ms/step - loss: 1.5004 - accuracy: 0.5902 - val_loss: 1.9684 - val_accuracy: 0.5859\n",
            "Epoch 14/20\n",
            "45/45 [==============================] - 19s 413ms/step - loss: 1.3974 - accuracy: 0.6355 - val_loss: 2.1462 - val_accuracy: 0.4479\n",
            "Epoch 15/20\n",
            "45/45 [==============================] - 19s 413ms/step - loss: 1.3063 - accuracy: 0.6571 - val_loss: 1.7929 - val_accuracy: 0.5982\n",
            "Epoch 16/20\n",
            "45/45 [==============================] - 19s 412ms/step - loss: 1.2763 - accuracy: 0.6927 - val_loss: 1.8069 - val_accuracy: 0.6043\n",
            "Epoch 17/20\n",
            "45/45 [==============================] - 19s 412ms/step - loss: 1.0804 - accuracy: 0.7150 - val_loss: 1.8156 - val_accuracy: 0.5429\n",
            "Epoch 18/20\n",
            "45/45 [==============================] - 19s 413ms/step - loss: 1.1328 - accuracy: 0.7206 - val_loss: 2.0151 - val_accuracy: 0.5798\n",
            "Epoch 19/20\n",
            "45/45 [==============================] - 19s 413ms/step - loss: 1.0453 - accuracy: 0.7582 - val_loss: 2.1498 - val_accuracy: 0.5552\n",
            "Epoch 20/20\n",
            "45/45 [==============================] - 19s 413ms/step - loss: 0.9842 - accuracy: 0.7784 - val_loss: 2.0641 - val_accuracy: 0.6135\n",
            "time: 6min 16s\n"
          ],
          "name": "stdout"
        }
      ]
    },
    {
      "cell_type": "markdown",
      "metadata": {
        "id": "zEE7jb6rs2ui"
      },
      "source": [
        "**Check How Model Worked**"
      ]
    },
    {
      "cell_type": "code",
      "metadata": {
        "id": "LlU_BZ9RexMq",
        "colab": {
          "base_uri": "https://localhost:8080/",
          "height": 1000
        },
        "outputId": "51833582-ab60-4585-92c4-e56842a43a0d"
      },
      "source": [
        "#----------------------------------------------------------------------\r\n",
        "# Plotting the history of the model and printing the model summary\r\n",
        "#----------------------------------------------------------------------\r\n",
        "\r\n",
        "# summarize history for accuracy\r\n",
        "plt.plot(history.history['accuracy'])\r\n",
        "plt.plot(history.history['val_accuracy'])\r\n",
        "plt.title('model accuracy')\r\n",
        "plt.ylabel('accuracy')\r\n",
        "plt.xlabel('epoch')\r\n",
        "plt.legend(['train', 'test'], loc='upper left')\r\n",
        "plt.savefig(default + folder + 'Plots6/Accuracy.png', dpi=800)\r\n",
        "plt.show()\r\n",
        "\r\n",
        "# summarize history for loss\r\n",
        "plt.plot(history.history['loss'])\r\n",
        "plt.plot(history.history['val_loss'])\r\n",
        "plt.title('model loss')\r\n",
        "plt.ylabel('loss')\r\n",
        "plt.xlabel('epoch')\r\n",
        "plt.legend(['train', 'test'], loc='upper left')\r\n",
        "plt.savefig(default + folder + 'Plots6/Loss.png', dpi=800)\r\n",
        "plt.show()\r\n",
        "\r\n",
        "estimator.summary()"
      ],
      "execution_count": 15,
      "outputs": [
        {
          "output_type": "display_data",
          "data": {
            "image/png": "[encoded data removed]",
            "text/plain": [
              "<Figure size 432x288 with 1 Axes>"
            ]
          },
          "metadata": {
            "tags": [],
            "needs_background": "light"
          }
        },
        {
          "output_type": "display_data",
          "data": {
            "image/png": "[encoded data removed]",
            "text/plain": [
              "<Figure size 432x288 with 1 Axes>"
            ]
          },
          "metadata": {
            "tags": [],
            "needs_background": "light"
          }
        },
        {
          "output_type": "stream",
          "text": [
            "Model: \"sequential_1\"\n",
            "_________________________________________________________________\n",
            "Layer (type)                 Output Shape              Param #   \n",
            "=================================================================\n",
            "conv2d_6 (Conv2D)            (None, 401, 513, 32)      800       \n",
            "_________________________________________________________________\n",
            "conv2d_7 (Conv2D)            (None, 401, 513, 32)      15392     \n",
            "_________________________________________________________________\n",
            "max_pooling2d_3 (MaxPooling2 (None, 100, 171, 32)      0         \n",
            "_________________________________________________________________\n",
            "conv2d_8 (Conv2D)            (None, 100, 171, 64)      6208      \n",
            "_________________________________________________________________\n",
            "conv2d_9 (Conv2D)            (None, 100, 171, 64)      12352     \n",
            "_________________________________________________________________\n",
            "max_pooling2d_4 (MaxPooling2 (None, 25, 171, 64)       0         \n",
            "_________________________________________________________________\n",
            "conv2d_10 (Conv2D)           (None, 25, 171, 128)      41088     \n",
            "_________________________________________________________________\n",
            "conv2d_11 (Conv2D)           (None, 25, 171, 128)      82048     \n",
            "_________________________________________________________________\n",
            "max_pooling2d_5 (MaxPooling2 (None, 25, 57, 128)       0         \n",
            "_________________________________________________________________\n",
            "flatten_1 (Flatten)          (None, 182400)            0         \n",
            "_________________________________________________________________\n",
            "dense_3 (Dense)              (None, 256)               46694656  \n",
            "_________________________________________________________________\n",
            "dropout_2 (Dropout)          (None, 256)               0         \n",
            "_________________________________________________________________\n",
            "dense_4 (Dense)              (None, 64)                16448     \n",
            "_________________________________________________________________\n",
            "dropout_3 (Dropout)          (None, 64)                0         \n",
            "_________________________________________________________________\n",
            "dense_5 (Dense)              (None, 10)                650       \n",
            "=================================================================\n",
            "Total params: 46,869,642\n",
            "Trainable params: 46,869,642\n",
            "Non-trainable params: 0\n",
            "_________________________________________________________________\n",
            "time: 4.01 s\n"
          ],
          "name": "stdout"
        }
      ]
    },
    {
      "cell_type": "code",
      "metadata": {
        "id": "emEpHcLlRc7P",
        "colab": {
          "base_uri": "https://localhost:8080/"
        },
        "outputId": "b2bcb4b1-1766-4e62-d640-8883d115d611"
      },
      "source": [
        "#----------------------------------------------------------------------\n",
        "# Predicting labels of Validation set\n",
        "#----------------------------------------------------------------------\n",
        "\n",
        "predictions = estimator.predict_proba(X_val)\n",
        "\n",
        "i=0\n",
        "Y_true = val_labels[:,1]\n",
        "Y_pred = np.zeros(val_labels[:,0].shape)\n",
        "for j in range(len(val_labels)):\n",
        "    index = val_labels[j][0]+i\n",
        "    A = predictions[i:index, :]\n",
        "    Y_pred[j]=(np.argmax(np.sum(A, axis=0)))\n",
        "    i=index"
      ],
      "execution_count": 16,
      "outputs": [
        {
          "output_type": "stream",
          "text": [
            "WARNING:tensorflow:From <ipython-input-16-35fd0b48b3c0>:5: Sequential.predict_proba (from tensorflow.python.keras.engine.sequential) is deprecated and will be removed after 2021-01-01.\n",
            "Instructions for updating:\n",
            "Please use `model.predict()` instead.\n",
            "time: 1.39 s\n"
          ],
          "name": "stdout"
        }
      ]
    },
    {
      "cell_type": "code",
      "metadata": {
        "id": "EBTff1vPRc7P",
        "colab": {
          "base_uri": "https://localhost:8080/"
        },
        "outputId": "c8db9b65-e9a3-40fb-d8f8-7d1905baa621"
      },
      "source": [
        "#----------------------------------------------------------------------\n",
        "# Outputting quantitaive metrics\n",
        "#----------------------------------------------------------------------\n",
        "\n",
        "CM = np.zeros((output_dim,output_dim))\n",
        "for i in range(len(Y_pred)):\n",
        "    CM[Y_true[i]][np.int(Y_pred[i])] += 1\n",
        "print('Audio labels Result -> ')\n",
        "print('Confusion Matrix ->')\n",
        "print(CM)\n",
        "print('Accuracy Score ->', accuracy_score(Y_true, Y_pred))\n",
        "print('\\n')"
      ],
      "execution_count": 17,
      "outputs": [
        {
          "output_type": "stream",
          "text": [
            "Audio labels Result -> \n",
            "Confusion Matrix ->\n",
            "[[ 0.  0.  1.  0.  0. 14.  0. 12.  0.  0.]\n",
            " [ 0.  8.  0.  0.  0.  0.  0.  0.  0.  0.]\n",
            " [ 0.  0. 16.  5.  2.  5.  0.  0.  0.  5.]\n",
            " [ 0.  0.  6. 41.  1.  5.  2.  0.  0.  0.]\n",
            " [ 0.  0.  1.  0. 35.  0.  0.  1.  1.  0.]\n",
            " [ 3.  0.  0.  0.  0. 30.  0.  0.  0.  0.]\n",
            " [ 0.  0.  0.  1.  1.  0. 18.  0.  0.  0.]\n",
            " [ 0.  0.  0.  0. 17.  4.  0. 21.  0.  0.]\n",
            " [ 7.  0.  0.  0.  0.  0.  0.  0.  0.  0.]\n",
            " [ 4.  0.  1.  0. 19.  3.  0.  2.  3. 31.]]\n",
            "Accuracy Score -> 0.6134969325153374\n",
            "\n",
            "\n",
            "time: 6.49 ms\n"
          ],
          "name": "stdout"
        }
      ]
    },
    {
      "cell_type": "code",
      "metadata": {
        "id": "bR_B3y8LtK-s",
        "colab": {
          "base_uri": "https://localhost:8080/"
        },
        "outputId": "e7c0b0ca-cd8f-4c70-978c-438d2937ecdc"
      },
      "source": [
        "#----------------------------------------------------------------------\n",
        "# Saving the trained model\n",
        "#----------------------------------------------------------------------\n",
        "estimator.save(default + folder + 'melModel(' + str(num_frames) + ')')"
      ],
      "execution_count": 18,
      "outputs": [
        {
          "output_type": "stream",
          "text": [
            "WARNING:tensorflow:From /usr/local/lib/python3.6/dist-packages/tensorflow/python/training/tracking/tracking.py:111: Model.state_updates (from tensorflow.python.keras.engine.training) is deprecated and will be removed in a future version.\n",
            "Instructions for updating:\n",
            "This property should not be used in TensorFlow 2.0, as updates are applied automatically.\n",
            "WARNING:tensorflow:From /usr/local/lib/python3.6/dist-packages/tensorflow/python/training/tracking/tracking.py:111: Layer.updates (from tensorflow.python.keras.engine.base_layer) is deprecated and will be removed in a future version.\n",
            "Instructions for updating:\n",
            "This property should not be used in TensorFlow 2.0, as updates are applied automatically.\n",
            "INFO:tensorflow:Assets written to: /content/drive/MyDrive/All_Data/data_splits/Splitted_Data(5)/melModel(401)/assets\n",
            "time: 4.62 s\n"
          ],
          "name": "stdout"
        }
      ]
    },
    {
      "cell_type": "markdown",
      "metadata": {
        "id": "FfrrNEYfv0_X"
      },
      "source": [
        "**Testing Section**"
      ]
    },
    {
      "cell_type": "code",
      "metadata": {
        "colab": {
          "base_uri": "https://localhost:8080/"
        },
        "id": "pHLg8xqPegye",
        "outputId": "a9395120-b130-48ac-b5a9-bbd2a95c7790"
      },
      "source": [
        "#----------------------------------------------------------------------\n",
        "# Generating a list of file names\n",
        "#----------------------------------------------------------------------\n",
        "data_test=[]\n",
        "for i in range(1,51):\n",
        "    if (i<10):\n",
        "        a = 'a00' + str(i)\n",
        "    else:\n",
        "        a = 'a0' + str(i)\n",
        "    data_test.append(a)"
      ],
      "execution_count": 42,
      "outputs": [
        {
          "output_type": "stream",
          "text": [
            "time: 3.73 ms\n"
          ],
          "name": "stdout"
        }
      ]
    },
    {
      "cell_type": "code",
      "metadata": {
        "colab": {
          "base_uri": "https://localhost:8080/"
        },
        "id": "yi4zVhTjRqlZ",
        "outputId": "34caf4cb-1766-42c6-b00a-a5b75694e4d8"
      },
      "source": [
        "#----------------------------------------------------------------------\r\n",
        "# Loading data of test_task1 and organizing it to test the model\r\n",
        "#----------------------------------------------------------------------\r\n",
        "# data_test = read_csv(default + test_folder + 'labels.csv')\r\n",
        "\r\n",
        "flag2=1\r\n",
        "\r\n",
        "for _ in data_test:\r\n",
        "    if(_ == 'slice_file_name'):\r\n",
        "        continue\r\n",
        "    if (_[-3:]=='wav'):\r\n",
        "        a = _[0:-4] + '.npy'\r\n",
        "    elif (_[-3:]=='npy'):\r\n",
        "        a = _\r\n",
        "    else:\r\n",
        "        a = _ + '.npy'\r\n",
        "    \r\n",
        "    temp_data_test = np.transpose(mel.dot(np.load(default + test_folder + 'feats/' + a)))\r\n",
        "    \r\n",
        "    length = len(temp_data_test)\r\n",
        "    num_pad = (num_frames - (length)%num_frames)%num_frames\r\n",
        "    temp_data_test = np.pad(temp_data_test, [(0,num_pad),(0,0)])\r\n",
        "    length = len(temp_data_test)\r\n",
        "    \r\n",
        "    if (flag2):\r\n",
        "        X_test = np.reshape(temp_data_test, [length//num_frames, num_frames, temp_data_test.shape[1]])\r\n",
        "        # Y_test = np.vstack([data_test[_]]*(length//num_frames))\r\n",
        "        test_labels = np.array([[length//num_frames]])\r\n",
        "    else:\r\n",
        "        X_test = np.append(X_test, np.reshape(temp_data_test, [length//num_frames, num_frames, temp_data_test.shape[1]]), axis=0)\r\n",
        "        # Y_test = np.append(Y_test, np.vstack([data_test[_]]*(length//num_frames)), axis=0)\r\n",
        "        test_labels = np.append(test_labels, np.array([[length//num_frames]]), axis=0)\r\n",
        "    flag2=0"
      ],
      "execution_count": 43,
      "outputs": [
        {
          "output_type": "stream",
          "text": [
            "time: 1.16 s\n"
          ],
          "name": "stdout"
        }
      ]
    },
    {
      "cell_type": "code",
      "metadata": {
        "id": "txX6twnm_ycr",
        "colab": {
          "base_uri": "https://localhost:8080/"
        },
        "outputId": "9999cba7-828e-48be-929d-ea1b34a9cf25"
      },
      "source": [
        "#----------------------------------------------------------------------\r\n",
        "# Loading the Model and the label encoder\r\n",
        "#----------------------------------------------------------------------\r\n",
        "model = models.load_model(default + folder + 'melModel(' + str(num_frames) + ')')\r\n",
        "\r\n",
        "encoder = LabelEncoder()\r\n",
        "encoder.classes_ = np.load(default + 'classes.npy')\r\n",
        "\r\n",
        "#----------------------------------------------------------------------\r\n",
        "# Predicting labels\r\n",
        "#----------------------------------------------------------------------\r\n",
        "\r\n",
        "X_test = np.reshape(X_test, (X_test.shape[0], X_test.shape[1], X_test.shape[2], 1))\r\n",
        "\r\n",
        "predictions = model.predict_proba(X_test)\r\n",
        "\r\n",
        "i=0\r\n",
        "Y_pred = np.zeros(test_labels[:,0].shape)\r\n",
        "for j in range(len(test_labels)):\r\n",
        "    index = test_labels[j][0]+i\r\n",
        "    A = predictions[i:index, :]\r\n",
        "    Y_pred[j]=(np.argmax(np.sum(A, axis=0)))\r\n",
        "    i=index\r\n",
        "Y_pred = Y_pred.astype('int')\r\n",
        "Y_pred = encoder.inverse_transform(Y_pred)"
      ],
      "execution_count": 44,
      "outputs": [
        {
          "output_type": "stream",
          "text": [
            "WARNING:tensorflow:5 out of the last 10 calls to <function Model.make_predict_function.<locals>.predict_function at 0x7f3924c94268> triggered tf.function retracing. Tracing is expensive and the excessive number of tracings could be due to (1) creating @tf.function repeatedly in a loop, (2) passing tensors with different shapes, (3) passing Python objects instead of tensors. For (1), please define your @tf.function outside of the loop. For (2), @tf.function has experimental_relax_shapes=True option that relaxes argument shapes that can avoid unnecessary retracing. For (3), please refer to https://www.tensorflow.org/tutorials/customization/performance#python_or_tensor_args and https://www.tensorflow.org/api_docs/python/tf/function for  more details.\n",
            "time: 3 s\n"
          ],
          "name": "stdout"
        }
      ]
    },
    {
      "cell_type": "code",
      "metadata": {
        "id": "jysMVh-S1ePU",
        "colab": {
          "base_uri": "https://localhost:8080/"
        },
        "outputId": "c72dc39f-3caf-45d7-c376-11a1a2c5e671"
      },
      "source": [
        "#----------------------------------------------------------------------\n",
        "# Output the results of test task 1\n",
        "#----------------------------------------------------------------------\n",
        "\n",
        "output = {}\n",
        "i=0\n",
        "for _ in data_test:\n",
        "    output[_]=Y_pred[i]\n",
        "    i=i+1\n",
        "\n",
        "with open(default + test_folder + 'est(401).csv', 'w') as csvfile:\n",
        "    writer = csv.writer(csvfile)\n",
        "    for key, value in output.items():\n",
        "        writer.writerow([key, value])"
      ],
      "execution_count": 45,
      "outputs": [
        {
          "output_type": "stream",
          "text": [
            "time: 14 ms\n"
          ],
          "name": "stdout"
        }
      ]
    },
    {
      "cell_type": "code",
      "metadata": {
        "id": "08QrY7x0AmyR"
      },
      "source": [
        ""
      ],
      "execution_count": null,
      "outputs": []
    }
  ]
}